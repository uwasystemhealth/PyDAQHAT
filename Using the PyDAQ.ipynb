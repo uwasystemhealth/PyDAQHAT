{
 "cells": [
  {
   "cell_type": "markdown",
   "id": "d152b7d8-90b1-41e0-97d5-89ffe8e62c59",
   "metadata": {},
   "source": [
    "# How to use the PiDAQ "
   ]
  },
  {
   "cell_type": "markdown",
   "id": "0b00cdce-f4a0-48e4-808b-e75f0e6f7e97",
   "metadata": {},
   "source": [
    "## Import required modules"
   ]
  },
  {
   "cell_type": "code",
   "execution_count": null,
   "id": "008cf18f-5428-4d84-bd26-941d7ad92230",
   "metadata": {},
   "outputs": [],
   "source": [
    "# PyDAQ modules\n",
    "import pydaqhat.pydaqhat as pd\n",
    "from pydaqhat.channel import Channel\n",
    "\n",
    "# Plotting modules\n",
    "from bokeh.plotting import figure\n",
    "from bokeh.io import push_notebook, show, output_notebook\n",
    "from bokeh.palettes import Category20\n",
    "\n",
    "# FLAC modules\n",
    "import os.path\n",
    "import numpy as np\n",
    "import soundfile as sf \n",
    "from mutagen.flac import FLAC\n",
    "from datetime import datetime"
   ]
  },
  {
   "cell_type": "markdown",
   "id": "d0aa86a7-fb0a-4bde-9708-9277b0ff219d",
   "metadata": {},
   "source": [
    "## Configure individual channel parameters"
   ]
  },
  {
   "cell_type": "code",
   "execution_count": null,
   "id": "479bf06d-257b-4b3c-a75d-1010905d69c2",
   "metadata": {},
   "outputs": [],
   "source": [
    "# This is the list of channels to use for the recording\n",
    "# They are of class 'Channel' and are in the format:\n",
    "# Channel(channel number, name, sensitivity, IEPE enable)\n",
    "\n",
    "# Channels can be removed from list if not required\n",
    "\n",
    "channels=[Channel(0,\"Channel 0\",3000,False),\n",
    "          Channel(1,\"Channel 1\",1234,True),\n",
    "          Channel(2,\"Channel 2\",4321,False),\n",
    "          Channel(3,\"Custom name\",3000,False),\n",
    "          Channel(4,\"Channel 4\",3000,False),\n",
    "          Channel(5,\"Channel 5\",3000,False)]"
   ]
  },
  {
   "cell_type": "markdown",
   "id": "ca715ab3-096f-4244-8fd3-c2f5a9c20f3c",
   "metadata": {},
   "source": [
    "## Perform finite scan\n",
    "A finite scan is a recording of pre-defined length"
   ]
  },
  {
   "cell_type": "code",
   "execution_count": null,
   "id": "397e10cd-d975-4c15-aeab-b4eca645558b",
   "metadata": {},
   "outputs": [],
   "source": [
    "scanresult = pd.finite_scan(\n",
    "    channels = channels,  # Individual channel parameters\n",
    "    sample_rate = 24000,  # Sample rate in Hz {default: 24000}\n",
    "    recording_length = 1, # Length of recording in seconds {default: 1}\n",
    "    verbose = False,      # Verbose text output {default: False}\n",
    ")\n",
    "\n",
    "# The data can be accessed as scanresult.data\n",
    "# e.g. Channel 0 data is scanresult.data[0]\n",
    "\n",
    "# Print channel data\n",
    "for i in range(len(channels)):\n",
    "    name = channels[i].name\n",
    "    channel_number = channels[i].channel\n",
    "    data = scanresult.data[i]\n",
    "    \n",
    "    print(f\"\"\"({channel_number}) {name} data: \n",
    "    {str(data)}\"\"\")\n"
   ]
  },
  {
   "cell_type": "markdown",
   "id": "0c0f45bd-b0bd-4822-838f-361f241cc727",
   "metadata": {},
   "source": [
    "## Plot data"
   ]
  },
  {
   "cell_type": "code",
   "execution_count": null,
   "id": "5fe6d99c-15b4-4c0b-a81c-aff7f4c14c7c",
   "metadata": {},
   "outputs": [],
   "source": [
    "#Set up legend titles\n",
    "legend = []\n",
    "for i in range(len(channels)):\n",
    "    name = channels[i].name\n",
    "    channel_number = channels[i].channel\n",
    "    legend.append(f\"({channel_number}) {name}\")\n",
    "    \n",
    "\n",
    "#Plot Data\n",
    "plot = figure(\n",
    "    title = \"Finite Recording\",\n",
    "    x_axis_label = \"Samples\",\n",
    "    y_axis_label = \"Unit\"\n",
    ")\n",
    "\n",
    "palette=Category20[9]\n",
    "for i in range(len(scanresult.data)):      \n",
    "    plot.line(\n",
    "        range(len(scanresult.data[i])), \n",
    "        scanresult.data[i],\n",
    "        color=palette[i],\n",
    "        line_width = 2,\n",
    "        legend_label=legend[i]\n",
    "    )\n",
    "\n",
    "plot.legend.click_policy=\"hide\"\n",
    "\n",
    "show(plot, notebook_handle=True)"
   ]
  },
  {
   "cell_type": "markdown",
   "id": "8a9e4bdf-0cb5-44cc-b006-4a6aeb768aa7",
   "metadata": {},
   "source": [
    "## Save recording as a FLAC"
   ]
  },
  {
   "cell_type": "code",
   "execution_count": null,
   "id": "354fdab0-63d1-452e-9a8b-4d3b5479ed1c",
   "metadata": {},
   "outputs": [],
   "source": [
    "date = datetime.now().strftime(\"%d_%m_%Y %H:%M:%S\")\n",
    "fname = f\"data/{len(scanresult.data)}Ch_Recording_{date}.flac\"\n",
    "print(f\"Saving to {fname}\")\n",
    "stream_data = np.transpose(np.array(scanresult.data))\n",
    "sf.write(fname,stream_data, scanresult.inputs[0])\n",
    "\n",
    "file = FLAC(fname)\n",
    "file[\"Title\"] = \"Finite Recording\"\n",
    "#TODO create Channels class so it is possible to run MCC_data.channels.format(0)\n",
    "for channel in scanresult.inputs[2]:\n",
    "    file[f\"Channel {channel.channel}\"] = f\"Enabled. Sensitivity {channel.sensitivity}. IEPE Enable {channel.iepe_enable}\"\n",
    "file[\"Number of hats\"] = str(len(scanresult.channels))\n",
    "file.save()"
   ]
  },
  {
   "cell_type": "code",
   "execution_count": null,
   "id": "58974272-c303-4674-89bb-9e210ffc14b6",
   "metadata": {},
   "outputs": [],
   "source": []
  }
 ],
 "metadata": {
  "kernelspec": {
   "display_name": "Python 3 (ipykernel)",
   "language": "python",
   "name": "python3"
  },
  "language_info": {
   "codemirror_mode": {
    "name": "ipython",
    "version": 3
   },
   "file_extension": ".py",
   "mimetype": "text/x-python",
   "name": "python",
   "nbconvert_exporter": "python",
   "pygments_lexer": "ipython3",
   "version": "3.7.3"
  }
 },
 "nbformat": 4,
 "nbformat_minor": 5
}
