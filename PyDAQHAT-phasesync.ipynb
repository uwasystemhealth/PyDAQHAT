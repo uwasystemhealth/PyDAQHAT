{
 "cells": [
  {
   "cell_type": "markdown",
   "id": "b7252ab2-7277-41a9-af47-1f1d21a2aae0",
   "metadata": {},
   "source": [
    "# PyDAQHAT development notebook"
   ]
  },
  {
   "cell_type": "markdown",
   "id": "f9afed53-5e8a-48e2-baa7-3027abe12aaf",
   "metadata": {},
   "source": [
    "This Jupyter notebook contains the raw code used in the PyDAQHAT module as well\n",
    "as various test and example code."
   ]
  },
  {
   "cell_type": "code",
   "execution_count": 1,
   "id": "01557fe5-88ee-4818-8ac9-9826ac82f05d",
   "metadata": {},
   "outputs": [],
   "source": [
    "from sys import path\n",
    "path.append('pydaqhat')"
   ]
  },
  {
   "cell_type": "markdown",
   "id": "bea4b256-24a2-4f7a-bcd2-1251bc8a7761",
   "metadata": {},
   "source": [
    "This command only needs to be run if the packages used have changed"
   ]
  },
  {
   "cell_type": "markdown",
   "id": "121acc4c-3f9a-4545-8ee3-16656b54341e",
   "metadata": {},
   "source": [
    "## Import required modules "
   ]
  },
  {
   "cell_type": "code",
   "execution_count": 2,
   "id": "13b0c115-bd89-4fcc-9367-f85cc8202a9a",
   "metadata": {},
   "outputs": [
    {
     "name": "stdout",
     "output_type": "stream",
     "text": [
      "Overwriting pydaqhat/__init__.py\n"
     ]
    }
   ],
   "source": [
    "%%writefile pydaqhat/__init__.py\n",
    "# __init__.py\n",
    "\n",
    "#from .pydaqhat import pydaqhat\n",
    "#from .pydaqhat import channel\n",
    "#from .daqhats_utils import daqhats_utils\n",
    "\n",
    "from bokeh.plotting import figure\n",
    "from bokeh.io import push_notebook, show, output_notebook\n",
    "from bokeh.palettes import Category20\n",
    "import numpy as np\n",
    "import soundfile as sf \n",
    "from mutagen.flac import FLAC\n",
    "from datetime import date\n",
    "output_notebook()"
   ]
  },
  {
   "cell_type": "markdown",
   "id": "6c57da87-8405-423e-8a37-310319e75e94",
   "metadata": {},
   "source": [
    "## Define 'Channel' class"
   ]
  },
  {
   "cell_type": "code",
   "execution_count": 3,
   "id": "18351843-3b94-469a-884a-153096fefa68",
   "metadata": {},
   "outputs": [
    {
     "name": "stdout",
     "output_type": "stream",
     "text": [
      "Overwriting pydaqhat/channel.py\n"
     ]
    }
   ],
   "source": [
    "%%writefile pydaqhat/channel.py\n",
    "class Channel:\n",
    "    \"\"\"Class containing channel number, sensitivity (mV/unit) and \n",
    "    whether input input is powered (iepe_enable = True)\n",
    "    \n",
    "    channel number (int) : 0, 1, ... (number of hats * 2 - 1)\n",
    "    sensitivity (float): Sensitivity of sensor in mV/unit\n",
    "    iepe_enable (bool): Enable IEPE if true\n",
    "\"\"\"\n",
    "    def __init__(self, channel, name, sensitivity=1000, iepe_enable=False):\n",
    "        self.channel = channel\n",
    "        self.name = name\n",
    "        self.sensitivity = sensitivity\n",
    "        self.iepe_enable = iepe_enable\n"
   ]
  },
  {
   "cell_type": "markdown",
   "id": "10afcc73-86dd-4b27-8418-acc3b76b36a9",
   "metadata": {},
   "source": [
    "## Define 'PyDAQHAT' class"
   ]
  },
  {
   "cell_type": "code",
   "execution_count": 5,
   "id": "9c81151b-5e18-470c-8274-5239894a32b2",
   "metadata": {},
   "outputs": [
    {
     "name": "stdout",
     "output_type": "stream",
     "text": [
      "Overwriting pydaqhat/pydaqhat.py\n"
     ]
    }
   ],
   "source": [
    "%%writefile pydaqhat/pydaqhat.py\n",
    "\"\"\"\n",
    "    This file contains essential functions to control the PiDAQ system\n",
    "\"\"\"\n",
    "from __future__ import print_function\n",
    "from time import sleep\n",
    "from sys import stdout, version_info\n",
    "from math import sqrt\n",
    "from daqhats import (mcc172, hat_list, OptionFlags, SourceType, HatIDs, \n",
    "                     TriggerModes, HatError)\n",
    "from .daqhats_utils import (select_hat_device, enum_mask_to_string,\n",
    "                           chan_list_to_mask)\n",
    "from ipywidgets import widgets\n",
    "from collections import namedtuple\n",
    "import RPi.GPIO as GPIO\n",
    "\n",
    "from .channel import Channel\n",
    "\n",
    "scan = False\n",
    "\n",
    "def finite_scan(\n",
    "    channels=[Channel(0,\"Channel 0\",3000,False),\n",
    "              Channel(1,\"Channel 1\",1234,True),\n",
    "              Channel(2,\"Channel 2\",4321,False),\n",
    "              Channel(3,\"Custom name\",3000,False),\n",
    "              Channel(4,\"Channel 4\",3000,False),\n",
    "              Channel(5,\"Channel 5\",3000,False)],\n",
    "    sample_rate=24000,\n",
    "    recording_length=1,\n",
    "    verbose=False,\n",
    "):\n",
    "    \"\"\" This runs a scan of predetermined length on the PiDAQ\n",
    "    Args:\n",
    "        channels (list): List of class Channel containing channels to use\n",
    "        sample_rate (float): Number of samples per second\n",
    "        recording_length (float): Length of recording in seconds \n",
    "        verbose (bool): Verbose output\n",
    "        \n",
    "    Returns:\n",
    "        ScanResult (namedtuple): Returns a named tuple containing the following\n",
    "        information: \n",
    "        ( \n",
    "        inputs: array containing function inputs (channels, sample rate, recording length)\n",
    "        channels: input channels converted to a channel mask array\n",
    "        data: output data from scan. data[3] corresponds to channel 3 etc.\n",
    "        )\n",
    "    \"\"\"\n",
    "    \n",
    "    MASTER = 0 # Master hat is the index 0 hat\n",
    "    MAX_DEVICE_COUNT = 3 # Maximum number of hats on device\n",
    "    CHANNELS_PER_HAT = 2\n",
    "        \n",
    "    timeout = 5.  # Seconds\n",
    "    options = OptionFlags.EXTTRIGGER\n",
    "    trigger_mode = TriggerModes.RISING_EDGE\n",
    "    channel_mask = [None] * MAX_DEVICE_COUNT\n",
    "    channel_count = [0] * MAX_DEVICE_COUNT\n",
    "    \n",
    "    ## GPIO Setup\n",
    "    pin = 40\n",
    "    GPIO.setmode(GPIO.BOARD)\n",
    "    GPIO.setup(pin, GPIO.OUT)\n",
    "    GPIO.output(pin, GPIO.LOW)\n",
    "    \n",
    "    ## Parse channels into correct format\n",
    "    chans = format_channels(channels, \n",
    "                            MAX_DEVICE_COUNT, \n",
    "                            CHANNELS_PER_HAT)\n",
    "    if verbose:\n",
    "        print(f\"Channels: {chans}\")\n",
    "    \n",
    "    # Get descriptors for all of the available HAT devices.\n",
    "    hat_info = hat_list(filter_by_id=HatIDs.MCC_172)\n",
    "    hats = [mcc172(x.address) for x in hat_info]\n",
    "    number_of_hats = len(hats)\n",
    "    \n",
    "    if verbose:\n",
    "        print(\"Hats:\\n\",hat_info)\n",
    "        print(f\"Number of hats : {number_of_hats}\")\n",
    "        \n",
    "    for i, hat in enumerate(hats):\n",
    "        for j, chan in enumerate(chans[i]):\n",
    "            if (chan != None):\n",
    "                # Configure IEPE.\n",
    "                hat.iepe_config_write(\n",
    "                    chan, \n",
    "                    channels[int(i*CHANNELS_PER_HAT + j)].iepe_enable)\n",
    "                # Configure sensitivity\n",
    "                hat.a_in_sensitivity_write(\n",
    "                    chan, \n",
    "                    channels[int(i*CHANNELS_PER_HAT + j)].sensitivity)\n",
    "        if hat.address() != MASTER:\n",
    "            # Configure the slave clocks.\n",
    "            hat.a_in_clock_config_write(SourceType.SLAVE, sample_rate)\n",
    "            hat.trigger_config(SourceType.SLAVE, trigger_mode)\n",
    "\n",
    "    # Configure the master clock and start the sync.\n",
    "    hat = hats[MASTER]\n",
    "    hat.a_in_clock_config_write(SourceType.MASTER, sample_rate)\n",
    "    synced = False\n",
    "    while not synced:\n",
    "        (_source_type, actual_rate, synced) = \\\n",
    "            hat.a_in_clock_config_read()\n",
    "        if not synced:\n",
    "            sleep(0.005)\n",
    "    if verbose:\n",
    "        print(\"Hats are now synced\")\n",
    "        \n",
    "    hat.trigger_config(SourceType.MASTER, trigger_mode)\n",
    "\n",
    "    for n, hat in enumerate(hats):\n",
    "        if(chans[n] != [None]):\n",
    "            channel_mask[n] = chan_list_to_mask(chans[n])\n",
    "            channel_count[n] = len(chans[n])\n",
    "        sr = hat.a_in_scan_actual_rate(sample_rate)\n",
    "        total_samples = int(recording_length*sr)\n",
    "        if verbose:\n",
    "            print(f\"\"\"\n",
    "-----------------------------\n",
    "Hat {n}\n",
    "-----------------------------\n",
    "    Channels                : {chans[n]}\n",
    "    Channel mask            : {channel_mask[n]}\n",
    "    Number of channels used : {channel_count[n]}\n",
    "    Actual sample rate      : {sr}\n",
    "    Total number of samples : {total_samples}\n",
    "-----------------------------\"\"\")\n",
    "            for i, chan in enumerate(chans[n]):\n",
    "                if chan != None:\n",
    "                        print(f\"\"\"\n",
    "    Channel {chan}            \n",
    "        Sensitivity         : {hat.a_in_sensitivity_read(chan)}\n",
    "        IEPE Enable         : {bool(hat.iepe_config_read(chan))}\n",
    "-----------------------------\"\"\")\n",
    "\n",
    "    if verbose:\n",
    "        print(\"Preparing each hat to record\")\n",
    "    data = [None] * MAX_DEVICE_COUNT * CHANNELS_PER_HAT\n",
    "    # Start scan in each hat. Hats will wait for the trigger until scan starts\n",
    "    for i, hat in enumerate(hats):\n",
    "        if(channel_mask[i] != None):\n",
    "            print(f\"Hat {i} has started recording\")\n",
    "            #Begins a new thread and waits until trigger condition is met before scanning\n",
    "            hat.a_in_scan_start(channel_mask[i], total_samples, options)\n",
    "    \n",
    "    ## Activate Trigger\n",
    "    GPIO.output(pin, GPIO.HIGH)\n",
    "    ## Wait until trigger is activated before continuing \n",
    "    print(\"Waiting for trigger\")\n",
    "    while(not hat.a_in_scan_status().triggered):\n",
    "        sleep(0.005)\n",
    "    print(\"Trigger activated\")\n",
    "    \n",
    "    for i, hat in enumerate(hats):\n",
    "        if(channel_mask[i] != None):\n",
    "            #Run through chans[i] and split based on that\n",
    "            raw_data = hat.a_in_scan_read_numpy(total_samples, -1).data\n",
    "            if(len(chans[i]) == 2):\n",
    "                if verbose:\n",
    "                    print(\"Splitting on 2\")\n",
    "                data[i*2] = raw_data[0::2]\n",
    "                data[i*2 + 1] = raw_data[1::2]\n",
    "            elif(len(chans[i]) == 1):\n",
    "                data[i*2] = raw_data\n",
    "            else:\n",
    "                 print(\"List of channels is formatted incorrectly\")\n",
    "                    \n",
    "    print(\"Recording has finished\")\n",
    "    \n",
    "    for i, hat in enumerate(hats):\n",
    "        hat.a_in_scan_cleanup()\n",
    "        \n",
    "        \n",
    "    ScanResult = namedtuple(\"ScanResult\", \"inputs channels data\")\n",
    "    output = ScanResult([sample_rate, recording_length, channels], chans, data)\n",
    "    \n",
    "    return output\n",
    "\n",
    "\n",
    "### Static functions ### \n",
    "def get_hat():\n",
    "    address = select_hat_device(HatIDs.MCC_172)\n",
    "    hat = mcc172(address)\n",
    "    return hat\n",
    "\n",
    "def format_channels(channels, maxdevices=4, numperhat=2):\n",
    "    \"\"\"\n",
    "    This function converts a list of channels to be used (e.g. [0,1,3])\n",
    "    into a list of lists [[0,1], [1], [None], [None]]\n",
    "    \n",
    "    Args:\n",
    "        channels (list): List containing channels to use\n",
    "        maxdevices (int): Maximum number of hats on device\n",
    "        numperhat (int): Total number of channels per hat\n",
    "    Returns:\n",
    "        chans (list): List of lists describing channels in correct format\n",
    "    \"\"\"\n",
    "    chans = []\n",
    "    \n",
    "    for i in range(maxdevices):\n",
    "        chans.append([None])\n",
    "        \n",
    "    for i in channels:\n",
    "        if(i.channel % 2 == 0):\n",
    "            ind = i.channel//numperhat\n",
    "            chans[ind].append(0)\n",
    "            if(chans[ind].count(None) > 0):\n",
    "                chans[ind].remove(None)\n",
    "        else:\n",
    "            ind = (i.channel-1)//numperhat\n",
    "            chans[ind].append(1)\n",
    "            if(chans[ind].count(None) > 0):\n",
    "                chans[ind].remove(None)\n",
    "\n",
    "    return chans\n",
    "    \n",
    "def channels_to_string():\n",
    "    \"\"\"\n",
    "    Turns input list of channels into a readable string\n",
    "    \n",
    "    Args:\n",
    "        channels (list): List of Channel objects\n",
    "    Returns:\n",
    "        (string): String in the format \"0,1,2,3,4,5\"\"\""
   ]
  },
  {
   "cell_type": "markdown",
   "id": "d17b3b81-d58e-4576-b1d7-8c8c46e4f847",
   "metadata": {},
   "source": [
    "## Run a finite scan across 6 channels "
   ]
  },
  {
   "cell_type": "code",
   "execution_count": 6,
   "id": "6be6a0d0-d106-49e9-887c-37749696b3c0",
   "metadata": {},
   "outputs": [
    {
     "ename": "NameError",
     "evalue": "name 'finite_scan' is not defined",
     "output_type": "error",
     "traceback": [
      "\u001b[0;31m---------------------------------------------------------------------------\u001b[0m",
      "\u001b[0;31mNameError\u001b[0m                                 Traceback (most recent call last)",
      "\u001b[0;32m/tmp/ipykernel_852/458348328.py\u001b[0m in \u001b[0;36m<module>\u001b[0;34m\u001b[0m\n\u001b[0;32m----> 1\u001b[0;31m \u001b[0mMCC_data\u001b[0m \u001b[0;34m=\u001b[0m \u001b[0mfinite_scan\u001b[0m\u001b[0;34m(\u001b[0m\u001b[0mverbose\u001b[0m\u001b[0;34m=\u001b[0m\u001b[0;32mTrue\u001b[0m\u001b[0;34m)\u001b[0m\u001b[0;34m\u001b[0m\u001b[0;34m\u001b[0m\u001b[0m\n\u001b[0m\u001b[1;32m      2\u001b[0m \u001b[0mprint\u001b[0m\u001b[0;34m(\u001b[0m\u001b[0mstr\u001b[0m\u001b[0;34m(\u001b[0m\u001b[0mlen\u001b[0m\u001b[0;34m(\u001b[0m\u001b[0mMCC_data\u001b[0m\u001b[0;34m.\u001b[0m\u001b[0mdata\u001b[0m\u001b[0;34m)\u001b[0m\u001b[0;34m)\u001b[0m\u001b[0;34m)\u001b[0m\u001b[0;34m\u001b[0m\u001b[0;34m\u001b[0m\u001b[0m\n\u001b[1;32m      3\u001b[0m \u001b[0;34m\u001b[0m\u001b[0m\n\u001b[1;32m      4\u001b[0m \u001b[0;32mfor\u001b[0m \u001b[0mdata\u001b[0m \u001b[0;32min\u001b[0m \u001b[0mMCC_data\u001b[0m\u001b[0;34m.\u001b[0m\u001b[0mdata\u001b[0m\u001b[0;34m:\u001b[0m\u001b[0;34m\u001b[0m\u001b[0;34m\u001b[0m\u001b[0m\n\u001b[1;32m      5\u001b[0m     \u001b[0mprint\u001b[0m\u001b[0;34m(\u001b[0m\u001b[0mstr\u001b[0m\u001b[0;34m(\u001b[0m\u001b[0mdata\u001b[0m\u001b[0;34m)\u001b[0m\u001b[0;34m)\u001b[0m\u001b[0;34m\u001b[0m\u001b[0;34m\u001b[0m\u001b[0m\n",
      "\u001b[0;31mNameError\u001b[0m: name 'finite_scan' is not defined"
     ]
    }
   ],
   "source": [
    "MCC_data = finite_scan(verbose=True)\n",
    "print(str(len(MCC_data.data)))\n",
    "\n",
    "for data in MCC_data.data:\n",
    "    print(str(data))"
   ]
  },
  {
   "cell_type": "markdown",
   "id": "1092d0e5-0920-4bca-b816-3e511dda6595",
   "metadata": {},
   "source": [
    "## Plot data"
   ]
  },
  {
   "cell_type": "code",
   "execution_count": null,
   "id": "bde0eaca-c223-4948-98d7-9dab4d39e273",
   "metadata": {},
   "outputs": [],
   "source": [
    "#Split data\n",
    "legend = [\"Channel 0\", \"Channel 1\", \"Channel 2\", \"Channel 3\", \"Channel 4\", \"Channel 5\"]\n",
    "\n",
    "#Plot Data\n",
    "plot = figure(\n",
    "    title = \"Finite Recording\",\n",
    "    x_axis_label = \"Sample\"\n",
    ")\n",
    "\n",
    "palette=Category20[9]\n",
    "for i in range(len(MCC_data.data)):   \n",
    "    plot.line(\n",
    "        range(len(MCC_data.data[i])), \n",
    "        MCC_data.data[i],\n",
    "        color=palette[i],\n",
    "        line_width = 2,\n",
    "        legend_label=legend[i]\n",
    "    )\n",
    "\n",
    "plot.legend.click_policy=\"hide\"\n",
    "\n",
    "show(plot, notebook_handle=True)"
   ]
  },
  {
   "cell_type": "markdown",
   "id": "1e2d5de5-3e23-424c-ae12-9b730d441a04",
   "metadata": {},
   "source": [
    "## Save Recording as FLAC"
   ]
  },
  {
   "cell_type": "code",
   "execution_count": null,
   "id": "7c5ec0aa-a2b1-48cf-a337-2f300163f98a",
   "metadata": {},
   "outputs": [],
   "source": [
    "fname = f\"data/{len(MCC_data.data)}Ch_Recording_{date.today()}.flac\"\n",
    "print(f\"Saving to {fname}\")\n",
    "stream_data = np.transpose(np.array(MCC_data.data))\n",
    "sf.write(fname,stream_data, MCC_data.inputs[0])\n",
    "\n",
    "file = FLAC(fname)\n",
    "file[\"Title\"] = \"Finite Recording\"\n",
    "\n",
    "for channel in MCC_data.inputs[2]:\n",
    "    file[f\"Channel {channel.channel}\"] = f\"Enabled. Sensitivity {channel.sensitivity}. IEPE Enable {channel.iepe_enable}\"\n",
    "file[\"Number of hats\"] = str(len(MCC_data.channels))\n",
    "file.save()"
   ]
  },
  {
   "cell_type": "markdown",
   "id": "ef7a5da3-aa4b-4703-b64c-1cbec5e31f00",
   "metadata": {},
   "source": [
    "## Run this to fix error \"Addr 0: Not responding\" "
   ]
  },
  {
   "cell_type": "code",
   "execution_count": null,
   "id": "dfeac3b7-9f9d-4838-95a1-d41fa26ac7fa",
   "metadata": {},
   "outputs": [],
   "source": [
    "for i in range(3):\n",
    "    hat = get_hat()\n",
    "    hat.a_in_scan_stop()\n",
    "    hat.a_in_scan_cleanup()\n",
    "        \n",
    "print(\"Scan has stopped\")"
   ]
  },
  {
   "cell_type": "code",
   "execution_count": null,
   "id": "b362b7b8-8532-4d38-8646-40095bf8c0d3",
   "metadata": {},
   "outputs": [],
   "source": []
  }
 ],
 "metadata": {
  "kernelspec": {
   "display_name": "Python 3 (ipykernel)",
   "language": "python",
   "name": "python3"
  },
  "language_info": {
   "codemirror_mode": {
    "name": "ipython",
    "version": 3
   },
   "file_extension": ".py",
   "mimetype": "text/x-python",
   "name": "python",
   "nbconvert_exporter": "python",
   "pygments_lexer": "ipython3",
   "version": "3.7.3"
  }
 },
 "nbformat": 4,
 "nbformat_minor": 5
}
