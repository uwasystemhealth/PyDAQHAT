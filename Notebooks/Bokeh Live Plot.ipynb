{
 "cells": [
  {
   "cell_type": "markdown",
   "id": "63a63c97-b67f-4551-8ea6-4b0862b1b220",
   "metadata": {},
   "source": [
    "This notebook allows for live plotting of data from the PiDAQ"
   ]
  },
  {
   "cell_type": "markdown",
   "id": "d3e1fdb6-023d-48cc-b100-7f19f907f13d",
   "metadata": {},
   "source": [
    "## Import Required Modules"
   ]
  },
  {
   "cell_type": "code",
   "execution_count": null,
   "id": "a6abd6c9-566d-4d5c-a9b8-a0159c4b4e46",
   "metadata": {},
   "outputs": [],
   "source": [
    "import time\n",
    "import pydaqhat as py\n",
    "from bokeh.io import push_notebook, show, output_notebook\n",
    "from bokeh.plotting import figure\n",
    "from bokeh.layouts import gridplot\n",
    "import time\n",
    "import ipywidgets as widgets\n",
    "import os\n",
    "\n",
    "output_notebook()"
   ]
  },
  {
   "cell_type": "markdown",
   "id": "e3bc2270-9630-4b25-ad6c-5c1989fa1152",
   "metadata": {},
   "source": [
    "## Plot\n",
    "This cell initialises a blank plot for live plotting."
   ]
  },
  {
   "cell_type": "code",
   "execution_count": null,
   "id": "b6754b06-b23d-4733-8bf0-7b019870f40e",
   "metadata": {},
   "outputs": [],
   "source": [
    "from bokeh.events import ButtonClick\n",
    "from bokeh.models import Button\n",
    "\n",
    "button = Button()\n",
    "\n",
    "def callback(event):\n",
    "    print('Python:Click')\n",
    "\n",
    "button.on_event(ButtonClick, callback)\n"
   ]
  },
  {
   "cell_type": "code",
   "execution_count": null,
   "id": "652ffaef-b7c3-4b8b-b525-aa3f3d49b85a",
   "metadata": {},
   "outputs": [],
   "source": [
    "show(button)"
   ]
  },
  {
   "cell_type": "code",
   "execution_count": null,
   "id": "e79e6ff2-1dcf-487c-a535-edc013d3d9f4",
   "metadata": {},
   "outputs": [],
   "source": [
    "from IPython.display import display\n",
    "button = widgets.Button(description=\"Stop Plotting\")\n",
    "output = widgets.Output()\n",
    "\n",
    "live_file = \"/tmp/bokeh_plot.pid\"\n",
    "\n",
    "def on_button_clicked(b):\n",
    "    with output:\n",
    "        if os.path.isfile(live_file):\n",
    "            os.remove(live_file)\n",
    "        print(\"Plotting stopped.\")\n",
    "\n",
    "button.on_click(on_button_clicked)"
   ]
  },
  {
   "cell_type": "code",
   "execution_count": null,
   "id": "4cf39b51-8318-4d58-aedf-f6cae3c174ef",
   "metadata": {},
   "outputs": [],
   "source": [
    "button.get_state()"
   ]
  },
  {
   "cell_type": "code",
   "execution_count": null,
   "id": "ac056aba-27b4-4985-91a0-b325d60e2181",
   "metadata": {},
   "outputs": [],
   "source": [
    "button.on_click?"
   ]
  },
  {
   "cell_type": "code",
   "execution_count": null,
   "id": "249bae5f-84a6-42bc-b72a-cc3238d20f2b",
   "metadata": {},
   "outputs": [],
   "source": [
    "p = figure(title=\"Live Plot\", \n",
    "           height=300, \n",
    "           width=600, \n",
    "           background_fill_color='#efefef'\n",
    "          )\n",
    "r = p.line(range(500), range(500), color=\"#8888cc\", line_width=1.5, alpha=0.8)\n",
    "\n",
    "display(button, output)\n",
    "show(p, notebook_handle=True)\n",
    "n = 0\n",
    "while n<10:\n",
    "    print(n)\n",
    "    n += 1\n",
    "    time.sleep(1)"
   ]
  },
  {
   "cell_type": "markdown",
   "id": "ca8e2405-7b40-470b-91e6-ce86c665f3f5",
   "metadata": {},
   "source": [
    "## Start live plot"
   ]
  },
  {
   "cell_type": "markdown",
   "id": "b6cdfcdf-d893-42fb-8568-e1bbb9a7d7da",
   "metadata": {},
   "source": [
    "This cell reads data live from the PiDAQ and plots it to the graph above. Click the stop button in Jupyter to stop plotting. If you want plotting to resume, run the initialisation cell above before this one. "
   ]
  },
  {
   "cell_type": "code",
   "execution_count": null,
   "id": "3f3e5f8e-fe5a-416f-bf9b-44a12240a895",
   "metadata": {},
   "outputs": [],
   "source": [
    " def plot_continous(hat):\n",
    "    print(\"Plotting\")\n",
    "    with open(live_file, 'w') as fp:\n",
    "        pass\n",
    "    \n",
    "    sample_count = 0\n",
    "    x = 0\n",
    "    while os.path.isfile(live_file):\n",
    "        x += 1\n",
    "        new = hat.a_in_scan_read(-1,0).data[-500:]\n",
    "        \n",
    "        r.data_source.data = {'x': range(0, len(new)), 'y': new}\n",
    "        \n",
    "        sample_count += len(new)\n",
    "\n",
    "        push_notebook()\n",
    "        print(x)\n",
    "        time.sleep(1)\n",
    "        \n",
    "    hat.a_in_scan_stop()\n",
    "    hat.a_in_scan_cleanup()\n",
    "    print(\"Scan has stopped\")    \n",
    "    \n",
    "hat = py.continous_scan_start(\n",
    "    channels = [0], # Channels to use\n",
    "    iepe_enable = False, # IEPE enable/disable\n",
    "    sensitivity = 1000, # Sensitivity in mV/unit\n",
    "    sample_rate = 20480, # Number of samples per second\n",
    "    buffer_size = 1000000 # Number of samples to keep in buffer before overwriting  \n",
    ")\n",
    "\n",
    "plot_continous(hat)"
   ]
  },
  {
   "cell_type": "markdown",
   "id": "ee628d5c-5398-4c16-ae9f-468c87b601be",
   "metadata": {},
   "source": [
    "# Stop continous scan\n",
    "Run this once finished with this notebook to clean up the PiDAQs internal buffer."
   ]
  },
  {
   "cell_type": "code",
   "execution_count": null,
   "id": "9bd37d5b-be45-4c12-bf2e-32cab93d05b1",
   "metadata": {},
   "outputs": [],
   "source": [
    "hat.a_in_scan_stop()\n",
    "hat.a_in_scan_cleanup()\n",
    "        \n",
    "print(\"Scan has stopped\")"
   ]
  },
  {
   "cell_type": "code",
   "execution_count": null,
   "id": "3b19023d-d216-4623-b67b-2918998f0b56",
   "metadata": {},
   "outputs": [],
   "source": []
  }
 ],
 "metadata": {
  "kernelspec": {
   "display_name": "Python 3",
   "language": "python",
   "name": "python3"
  },
  "language_info": {
   "codemirror_mode": {
    "name": "ipython",
    "version": 3
   },
   "file_extension": ".py",
   "mimetype": "text/x-python",
   "name": "python",
   "nbconvert_exporter": "python",
   "pygments_lexer": "ipython3",
   "version": "3.8.8"
  }
 },
 "nbformat": 4,
 "nbformat_minor": 5
}
