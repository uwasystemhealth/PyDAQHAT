{
 "cells": [
  {
   "cell_type": "markdown",
   "id": "538ca617-5dc3-4a3f-93ce-c511b126d786",
   "metadata": {},
   "source": [
    "# Multi-Channel Live Display \n",
    "This notebook allows for live display of multiple channels"
   ]
  },
  {
   "cell_type": "markdown",
   "id": "62c07fd4-9538-4ef0-9bc3-e188e0711121",
   "metadata": {},
   "source": [
    "## Plot Setup"
   ]
  },
  {
   "cell_type": "code",
   "execution_count": null,
   "id": "84a06fc5-3772-444f-889a-021addef19e0",
   "metadata": {},
   "outputs": [],
   "source": [
    "%matplotlib widget"
   ]
  },
  {
   "cell_type": "markdown",
   "id": "38c5f40e-0e46-4fef-bf27-f1e28fb021a0",
   "metadata": {},
   "source": [
    "## Import required modules"
   ]
  },
  {
   "cell_type": "code",
   "execution_count": null,
   "id": "5264e0a6-a993-4c7c-9d46-0ed383a3262d",
   "metadata": {},
   "outputs": [],
   "source": [
    "import time\n",
    "import matplotlib.pyplot as plt\n",
    "import matplotlib.ticker as ticker\n",
    "import pydaqhat as py"
   ]
  },
  {
   "cell_type": "markdown",
   "id": "cb38f52e-623c-421d-b03c-8c6816912921",
   "metadata": {},
   "source": [
    "## Plot"
   ]
  },
  {
   "cell_type": "code",
   "execution_count": null,
   "id": "81dba6dd-35b5-4853-86cb-191220d818bf",
   "metadata": {},
   "outputs": [],
   "source": [
    "plt.rcParams['animation.html'] = 'jshtml'\n",
    "plt.style.use('default')\n",
    "\n",
    "fig = plt.figure()\n",
    "ax = fig.add_subplot(111)\n",
    "ax.set_ylabel(\"Voltage (V)\")\n",
    "ax.set_xlabel(\"Sample\")\n",
    "ax.set_title(\"PiDAQ Live Data\")\n",
    "#fig.show()"
   ]
  },
  {
   "cell_type": "code",
   "execution_count": null,
   "id": "41f43b9e-30cb-47f5-8783-ec89ba9afb33",
   "metadata": {},
   "outputs": [],
   "source": [
    "channels = [0,1] # Channels to use\n",
    "iepe_enable = False # IEPE enable/disable\n",
    "sensitivity = 1000 # Sensitivity in mV/unit\n",
    "sample_rate = 20000 # Number of samples per second\n",
    "buffer_size = 1000000 # Number of samples to keep in buffer before overwriting  \n",
    "    \n",
    "    \n",
    "def plot_continous(hat):\n",
    "    print(\"Plotting\")\n",
    "    \n",
    "    \n",
    "    sample_count = 0\n",
    "    while True:\n",
    "        new = hat.a_in_scan_read(-1,0).data[-500:]       \n",
    "        ax.cla()\n",
    "        \n",
    "        last_start_index = 0\n",
    "        for i in range(len(channels)):\n",
    "            ax.plot(new[i::2], label=\"Channel {}\".format(i))\n",
    "            \n",
    "        \n",
    "        #ax.plot(range(sample_count, sample_count + len(new)), new)\n",
    "        ax.set_xlim(left=0, right=len(new)//2)\n",
    "        ax.xaxis.set_major_formatter(ticker.EngFormatter())\n",
    "        ax.set_ylabel(\"Voltage (V)\")\n",
    "        ax.set_xlabel(\"Sample\")\n",
    "        ax.set_title(\"Len {}\".format(len(new)))\n",
    "        ax.legend(loc=1)\n",
    "        sample_count += len(new)\n",
    "        fig.canvas.draw()        \n",
    "        #sleep(0.1)\n",
    "    \n",
    "hat = py.continous_scan_start(\n",
    "    channels = channels,\n",
    "    iepe_enable = iepe_enable,\n",
    "    sensitivity = sensitivity,\n",
    "    sample_rate = sample_rate,\n",
    "    buffer_size = buffer_size\n",
    ")\n",
    "\n",
    "plot_continous(hat)"
   ]
  },
  {
   "cell_type": "code",
   "execution_count": null,
   "id": "d14de8f8-012f-4858-9468-e1f7607403b4",
   "metadata": {},
   "outputs": [],
   "source": [
    "hat.a_in_scan_stop()\n",
    "hat.a_in_scan_cleanup()\n",
    "        \n",
    "print(\"Scan has stopped\")"
   ]
  },
  {
   "cell_type": "code",
   "execution_count": null,
   "id": "e7b83e76-8741-4679-9144-8c0258dc3344",
   "metadata": {},
   "outputs": [],
   "source": []
  }
 ],
 "metadata": {
  "kernelspec": {
   "display_name": "Python 3",
   "language": "python",
   "name": "python3"
  },
  "language_info": {
   "codemirror_mode": {
    "name": "ipython",
    "version": 3
   },
   "file_extension": ".py",
   "mimetype": "text/x-python",
   "name": "python",
   "nbconvert_exporter": "python",
   "pygments_lexer": "ipython3",
   "version": "3.8.8"
  }
 },
 "nbformat": 4,
 "nbformat_minor": 5
}
