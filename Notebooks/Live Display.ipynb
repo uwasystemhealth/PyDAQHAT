{
 "cells": [
  {
   "cell_type": "markdown",
   "id": "63a63c97-b67f-4551-8ea6-4b0862b1b220",
   "metadata": {},
   "source": [
    "This notebook allows for live plotting of data from the PiDAQ"
   ]
  },
  {
   "cell_type": "markdown",
   "id": "c66a0781-0886-4a62-a3dd-d88086fc7b9b",
   "metadata": {},
   "source": [
    "## Plot Setup\n",
    "This is required for animated Matplotlib plots to function within Jupyter. The ipympl module must installed to the PiDAQ before use. "
   ]
  },
  {
   "cell_type": "code",
   "execution_count": 2,
   "id": "c4409feb-60e8-4257-82b1-83a54e97bd25",
   "metadata": {},
   "outputs": [],
   "source": [
    "%matplotlib widget"
   ]
  },
  {
   "cell_type": "markdown",
   "id": "d3e1fdb6-023d-48cc-b100-7f19f907f13d",
   "metadata": {},
   "source": [
    "## Import Required Modules"
   ]
  },
  {
   "cell_type": "code",
   "execution_count": 3,
   "id": "a6abd6c9-566d-4d5c-a9b8-a0159c4b4e46",
   "metadata": {},
   "outputs": [],
   "source": [
    "import time\n",
    "import matplotlib.pyplot as plt\n",
    "import matplotlib.ticker as ticker\n",
    "import pydaqhat as py"
   ]
  },
  {
   "cell_type": "markdown",
   "id": "e3bc2270-9630-4b25-ad6c-5c1989fa1152",
   "metadata": {},
   "source": [
    "## Plot\n",
    "This cell initialises a blank plot for live plotting."
   ]
  },
  {
   "cell_type": "code",
   "execution_count": 9,
   "id": "249bae5f-84a6-42bc-b72a-cc3238d20f2b",
   "metadata": {},
   "outputs": [
    {
     "data": {
      "text/plain": [
       "Text(0.5, 1.0, 'PiDAQ Live Data')"
      ]
     },
     "execution_count": 9,
     "metadata": {},
     "output_type": "execute_result"
    },
    {
     "data": {
      "application/vnd.jupyter.widget-view+json": {
       "model_id": "b2dfc5e3e2c14db89f4fbd3ce769f21f",
       "version_major": 2,
       "version_minor": 0
      },
      "image/png": "[encoded data removed]",
      "text/plain": [
       "Canvas(toolbar=Toolbar(toolitems=[('Home', 'Reset original view', 'home', 'home'), ('Back', 'Back to previous …"
      ]
     },
     "metadata": {},
     "output_type": "display_data"
    }
   ],
   "source": [
    "plt.rcParams['animation.html'] = 'jshtml'\n",
    "plt.style.use('default')\n",
    "\n",
    "fig = plt.figure()\n",
    "ax = fig.add_subplot(111)\n",
    "ax.set_ylabel(\"Voltage (V)\")\n",
    "ax.set_xlabel(\"Sample\")\n",
    "ax.set_title(\"PiDAQ Live Data\")\n",
    "#fig.show()"
   ]
  },
  {
   "cell_type": "markdown",
   "id": "ca8e2405-7b40-470b-91e6-ce86c665f3f5",
   "metadata": {},
   "source": [
    "## Start live plot"
   ]
  },
  {
   "cell_type": "markdown",
   "id": "b6cdfcdf-d893-42fb-8568-e1bbb9a7d7da",
   "metadata": {},
   "source": [
    "This cell reads data live from the PiDAQ and plots it to the graph above. Click the stop button in Jupyter to stop plotting. If you want plotting to resume, run the initialisation cell above before this one. "
   ]
  },
  {
   "cell_type": "code",
   "execution_count": 10,
   "id": "3f3e5f8e-fe5a-416f-bf9b-44a12240a895",
   "metadata": {},
   "outputs": [
    {
     "name": "stdout",
     "output_type": "stream",
     "text": [
      "Found a board at address: 0\n",
      "Recording will start with parameters\n",
      "                Channels: [0]\n",
      "                IEPE: False\n",
      "                Requested Scan Rate: 20480 Hz\n",
      "                Actual Scan Rate: 17066.667 Hz\n",
      "                Samples Per Channel: 1000\n",
      "                Sensitivity: 1000 mV/unit\n",
      "                Option Flags: CONTINUOUS\n",
      "                \n",
      "Starting scan...\n",
      "Plotting\n"
     ]
    },
    {
     "ename": "HatError",
     "evalue": "Addr 0: Incorrect response -6.",
     "output_type": "error",
     "traceback": [
      "\u001b[0;31m---------------------------------------------------------------------------\u001b[0m",
      "\u001b[0;31mHatError\u001b[0m                                  Traceback (most recent call last)",
      "\u001b[0;32m/tmp/ipykernel_13804/1964048494.py\u001b[0m in \u001b[0;36m<module>\u001b[0;34m\u001b[0m\n\u001b[1;32m     26\u001b[0m )\n\u001b[1;32m     27\u001b[0m \u001b[0;34m\u001b[0m\u001b[0m\n\u001b[0;32m---> 28\u001b[0;31m \u001b[0mplot_continous\u001b[0m\u001b[0;34m(\u001b[0m\u001b[0mhat\u001b[0m\u001b[0;34m)\u001b[0m\u001b[0;34m\u001b[0m\u001b[0;34m\u001b[0m\u001b[0m\n\u001b[0m",
      "\u001b[0;32m/tmp/ipykernel_13804/1964048494.py\u001b[0m in \u001b[0;36mplot_continous\u001b[0;34m(hat)\u001b[0m\n\u001b[1;32m      5\u001b[0m    \u001b[0msample_count\u001b[0m \u001b[0;34m=\u001b[0m \u001b[0;36m0\u001b[0m\u001b[0;34m\u001b[0m\u001b[0;34m\u001b[0m\u001b[0m\n\u001b[1;32m      6\u001b[0m    \u001b[0;32mwhile\u001b[0m \u001b[0;32mTrue\u001b[0m\u001b[0;34m:\u001b[0m\u001b[0;34m\u001b[0m\u001b[0;34m\u001b[0m\u001b[0m\n\u001b[0;32m----> 7\u001b[0;31m        \u001b[0mnew\u001b[0m \u001b[0;34m=\u001b[0m \u001b[0mhat\u001b[0m\u001b[0;34m.\u001b[0m\u001b[0ma_in_scan_read\u001b[0m\u001b[0;34m(\u001b[0m\u001b[0;34m-\u001b[0m\u001b[0;36m1\u001b[0m\u001b[0;34m,\u001b[0m\u001b[0;36m0\u001b[0m\u001b[0;34m)\u001b[0m\u001b[0;34m.\u001b[0m\u001b[0mdata\u001b[0m\u001b[0;34m[\u001b[0m\u001b[0;34m-\u001b[0m\u001b[0;36m500\u001b[0m\u001b[0;34m:\u001b[0m\u001b[0;34m]\u001b[0m\u001b[0;34m\u001b[0m\u001b[0;34m\u001b[0m\u001b[0m\n\u001b[0m\u001b[1;32m      8\u001b[0m \u001b[0;34m\u001b[0m\u001b[0m\n\u001b[1;32m      9\u001b[0m        \u001b[0max\u001b[0m\u001b[0;34m.\u001b[0m\u001b[0mcla\u001b[0m\u001b[0;34m(\u001b[0m\u001b[0;34m)\u001b[0m\u001b[0;34m\u001b[0m\u001b[0;34m\u001b[0m\u001b[0m\n",
      "\u001b[0;32m/usr/local/lib/python3.7/dist-packages/daqhats/mcc172.py\u001b[0m in \u001b[0;36ma_in_scan_read\u001b[0;34m(self, samples_per_channel, timeout)\u001b[0m\n\u001b[1;32m    935\u001b[0m             \u001b[0;32mif\u001b[0m \u001b[0mresult\u001b[0m \u001b[0;34m!=\u001b[0m \u001b[0mself\u001b[0m\u001b[0;34m.\u001b[0m\u001b[0m_RESULT_SUCCESS\u001b[0m\u001b[0;34m:\u001b[0m\u001b[0;34m\u001b[0m\u001b[0;34m\u001b[0m\u001b[0m\n\u001b[1;32m    936\u001b[0m                 raise HatError(self._address, \"Incorrect response {}.\".format(\n\u001b[0;32m--> 937\u001b[0;31m                     result))\n\u001b[0m\u001b[1;32m    938\u001b[0m \u001b[0;34m\u001b[0m\u001b[0m\n\u001b[1;32m    939\u001b[0m             \u001b[0;31m# allocate a buffer large enough for all the data\u001b[0m\u001b[0;34m\u001b[0m\u001b[0;34m\u001b[0m\u001b[0;34m\u001b[0m\u001b[0m\n",
      "\u001b[0;31mHatError\u001b[0m: Addr 0: Incorrect response -6."
     ]
    }
   ],
   "source": [
    " def plot_continous(hat):\n",
    "    print(\"Plotting\")\n",
    "    \n",
    "    \n",
    "    sample_count = 0\n",
    "    while True:\n",
    "        new = hat.a_in_scan_read(-1,0).data[-500:]\n",
    "        \n",
    "        ax.cla()\n",
    "        ax.plot(range(sample_count, sample_count + len(new)), new)\n",
    "        ax.set_xlim(left=sample_count, right=sample_count + len(new))\n",
    "        ax.xaxis.set_major_formatter(ticker.EngFormatter())\n",
    "        ax.set_ylabel(\"Voltage (V)\")\n",
    "        ax.set_xlabel(\"Sample\")\n",
    "        ax.set_title(\"PiDAQ Live Data\")\n",
    "        sample_count += len(new)\n",
    "        fig.canvas.draw()        \n",
    "        #sleep(0.1)\n",
    "    \n",
    "hat = py.continous_scan_start(\n",
    "    channels = [0], # Channels to use\n",
    "    iepe_enable = False, # IEPE enable/disable\n",
    "    sensitivity = 1000, # Sensitivity in mV/unit\n",
    "    sample_rate = 20480, # Number of samples per second\n",
    "    buffer_size = 1000 # Number of samples to keep in buffer before overwriting  \n",
    ")\n",
    "\n",
    "plot_continous(hat)"
   ]
  },
  {
   "cell_type": "markdown",
   "id": "ee628d5c-5398-4c16-ae9f-468c87b601be",
   "metadata": {},
   "source": [
    "# Stop continous scan\n",
    "Run this once finished with this notebook to clean up the PiDAQs internal buffer."
   ]
  },
  {
   "cell_type": "code",
   "execution_count": 8,
   "id": "9bd37d5b-be45-4c12-bf2e-32cab93d05b1",
   "metadata": {},
   "outputs": [
    {
     "name": "stdout",
     "output_type": "stream",
     "text": [
      "Scan has stopped\n"
     ]
    }
   ],
   "source": [
    "hat.a_in_scan_stop()\n",
    "hat.a_in_scan_cleanup()\n",
    "        \n",
    "print(\"Scan has stopped\")"
   ]
  },
  {
   "cell_type": "code",
   "execution_count": null,
   "id": "3b19023d-d216-4623-b67b-2918998f0b56",
   "metadata": {},
   "outputs": [],
   "source": []
  }
 ],
 "metadata": {
  "kernelspec": {
   "display_name": "Python 3",
   "language": "python",
   "name": "python3"
  },
  "language_info": {
   "codemirror_mode": {
    "name": "ipython",
    "version": 3
   },
   "file_extension": ".py",
   "mimetype": "text/x-python",
   "name": "python",
   "nbconvert_exporter": "python",
   "pygments_lexer": "ipython3",
   "version": "3.8.8"
  }
 },
 "nbformat": 4,
 "nbformat_minor": 5
}
