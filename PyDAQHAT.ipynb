{
 "cells": [
  {
   "cell_type": "markdown",
   "id": "b7252ab2-7277-41a9-af47-1f1d21a2aae0",
   "metadata": {},
   "source": [
    "# PyDAQHAT development notebook"
   ]
  },
  {
   "cell_type": "markdown",
   "id": "f9afed53-5e8a-48e2-baa7-3027abe12aaf",
   "metadata": {},
   "source": [
    "This Jupyter notebook contains the raw code used in the PyDAQHAT module as well\n",
    "as various test and example code."
   ]
  },
  {
   "cell_type": "code",
   "execution_count": 2,
   "id": "01557fe5-88ee-4818-8ac9-9826ac82f05d",
   "metadata": {},
   "outputs": [],
   "source": [
    "from sys import path\n",
    "path.append('pydaqhat')"
   ]
  },
  {
   "cell_type": "code",
   "execution_count": 127,
   "id": "9c81151b-5e18-470c-8274-5239894a32b2",
   "metadata": {},
   "outputs": [],
   "source": [
    "#%%writefile pydaqhat/pydaqhat.py\n",
    "\"\"\"\n",
    "    This file contains essential functions to control the PiDAQ system\n",
    "\"\"\"\n",
    "from __future__ import print_function\n",
    "from time import sleep\n",
    "from sys import stdout, version_info\n",
    "from math import sqrt\n",
    "from daqhats import (mcc172, hat_list, OptionFlags, SourceType, HatIDs, \n",
    "                     HatError)\n",
    "from daqhats_utils import (select_hat_device, enum_mask_to_string,\n",
    "                           chan_list_to_mask)\n",
    "from ipywidgets import widgets\n",
    "\n",
    "scan = False\n",
    "\n",
    "def finite_scan(\n",
    "    channels=[0,1,2,3],\n",
    "    iepe_enable=False,\n",
    "    sensitivity=1000,\n",
    "    sample_rate=20000,\n",
    "    recording_length=1,\n",
    "    verbose=False,\n",
    "):\n",
    "    \"\"\" This runs a scan of predetermined length on the PiDAQ\n",
    "    Args:\n",
    "        channels (list): List containing channels to use\n",
    "        iepe_enable (bool): Enable IEPE if true\n",
    "        sensitivity (float): Sensitivity of sensor in mV/unit\n",
    "        sample_rate (float): Number of samples per second\n",
    "        recording_length (float): Length of recording in seconds \n",
    "        \n",
    "    Returns:\n",
    "        hat (any): Returns the MCC172 hat object\n",
    "    \"\"\"\n",
    "    \n",
    "    MASTER = 0\n",
    "    MAX_DEVICE_COUNT = 4\n",
    "    CHANNELS_PER_HAT = 2\n",
    "    timeout = 5.  # Seconds\n",
    "    options = OptionFlags.DEFAULT\n",
    "    channel_mask = [None] * MAX_DEVICE_COUNT\n",
    "    channel_count = [0] * MAX_DEVICE_COUNT\n",
    "    \n",
    "    ## Parse channels into correct format\n",
    "    chans = chanlist_to_listlist(channels, \n",
    "                                 MAX_DEVICE_COUNT, \n",
    "                                 CHANNELS_PER_HAT)\n",
    "    \n",
    "    # Get descriptors for all of the available HAT devices.\n",
    "    hat_info = hat_list(filter_by_id=HatIDs.MCC_172)\n",
    "    hats = [mcc172(x.address) for x in hat_info]\n",
    "    number_of_hats = len(hats)\n",
    "    if verbose:\n",
    "        print(\"Hats:\\n\",hat_info)\n",
    "        print(f\"Number of hats : {number_of_hats}\")\n",
    "        \n",
    "    for i, hat in enumerate(hats):\n",
    "        ## TODO Allow for multi-channel configurationyy\n",
    "        for channel in chans[i]:\n",
    "            if (channel != None):\n",
    "                # Configure IEPE.\n",
    "                hat.iepe_config_write(channel, iepe_enable)\n",
    "                # Configure sensitivity\n",
    "                hat.a_in_sensitivity_write(channel, sensitivity)\n",
    "        if hat.address() != MASTER:\n",
    "            # Configure the slave clocks.\n",
    "            hat.a_in_clock_config_write(SourceType.SLAVE, sample_rate)\n",
    "\n",
    "    # Configure the master clock and start the sync.\n",
    "    hat = hats[MASTER]\n",
    "    hat.a_in_clock_config_write(SourceType.MASTER, sample_rate)\n",
    "    synced = False\n",
    "    while not synced:\n",
    "        (_source_type, actual_rate, synced) = \\\n",
    "            hat.a_in_clock_config_read()\n",
    "        if not synced:\n",
    "            sleep(0.005)\n",
    "    if verbose:\n",
    "        print(\"Hats are now synced\")\n",
    "\n",
    "    for n, hat in enumerate(hats):\n",
    "        if(chans[n] != [None]):\n",
    "            channel_mask[n] = chan_list_to_mask(chans[n])\n",
    "            channel_count[n] = len(chans[n]) #TODO: FIX THIS\n",
    "        sr = hat.a_in_scan_actual_rate(sample_rate)\n",
    "        total_samples = int(recording_length*sr)\n",
    "        if verbose:\n",
    "            print(f\"Hat {n}\")\n",
    "            print(f\"    Channels                : {chans[n]}\")\n",
    "            print(f\"    Channel mask            : {channel_mask[n]}\")\n",
    "            print(f\"    Number of channels used : {channel_count[n]}\")\n",
    "            print(f\"    Actual sample rate      : {sr}\")\n",
    "            print(f\"    Total number of samples : {total_samples}\")\n",
    " \n",
    "\n",
    "    data = [None] * MAX_DEVICE_COUNT\n",
    "    # Read the data from each HAT device.\n",
    "    for i, hat in enumerate(hats):\n",
    "        if(channel_mask[i] != None):\n",
    "            hat.a_in_scan_start(channel_mask[i], total_samples, options)\n",
    "        \n",
    "    for i, hat in enumerate(hats):\n",
    "        if(channel_mask[i] != None):\n",
    "            data[i] = hat.a_in_scan_read_numpy(total_samples, -1)\n",
    "        \n",
    "    for i, hat in enumerate(hats):\n",
    "        hat.a_in_scan_cleanup()\n",
    "    \n",
    "    return data\n",
    "----------------------------\n",
    "    # Set channel specific parameters\n",
    "    for channel in channels:\n",
    "        hat.iepe_config_write(channel, iepe_enable)\n",
    "        hat.a_in_sensitivity_write(channel, sensitivity)\n",
    "    \n",
    "        \n",
    "    ## TODO Change to requested parameters and actual parameters for all (using config_read method)\n",
    "    print(\"\"\"Recording will start with parameters\n",
    "                Channels: {0}\n",
    "                IEPE: {1}\n",
    "                Requested Scan Rate: {2} Hz\n",
    "                Actual Scan Rate: {3:.3f} Hz\n",
    "                Length of Recording: {4} seconds\n",
    "                Sensitivity: {5} mV/unit\n",
    "                \"\"\".format(str(channels), \n",
    "                           str(iepe_enable),\n",
    "                           sample_rate,\n",
    "                           hat.a_in_scan_actual_rate(sample_rate),\n",
    "                           recording_length,\n",
    "                           sensitivity,\n",
    "                         )\n",
    "         )\n",
    "    \n",
    "    # Start scan\n",
    "    hat.a_in_scan_start(channel_mask, total_samples)\n",
    "    \n",
    "    print(\"Starting scan...\")\n",
    "    \n",
    "    data = hat.a_in_scan_read(total_samples, -1)\n",
    "    print(\"Recording finished with {} samples\".format(len(data.data)))\n",
    "    \n",
    "    hat.a_in_scan_cleanup()\n",
    "    \n",
    "    return data\n",
    "\n",
    "\n",
    "## TODO convert parameters to a named tuple\n",
    "def continous_scan_start(channels=[0], iepe_enable=False, sensitivity=1000, sample_rate=20000, buffer_size=10000):\n",
    "    \"\"\" This runs a continous scan on the PiDAQ \n",
    "    Args:\n",
    "        channels (list): List containing channels to use\n",
    "        iepe_enable (bool): Enable IEPE if true\n",
    "        sensitivity (float): Sensitivity of sensor in mV/unit\n",
    "        sample_rate (float): Number of samples per second\n",
    "        buffer_size (float): Number of samples to keep in buffer\n",
    "\n",
    "    Returns:\n",
    "        hat (any): Returns MCC172 hat object\n",
    "    \"\"\"\n",
    "    global hat \n",
    "    \n",
    "    channel_mask = chan_list_to_mask(channels) # Returns equivalent integer representing channels\n",
    "    channel_count = len(channels)\n",
    "    \n",
    "    options = OptionFlags.CONTINUOUS\n",
    "    \n",
    "    # Finds address of MCC172 and allocates it as hat\n",
    "    # TODO allow this to work for multiple boards (hat[])\n",
    "    address = select_hat_device(HatIDs.MCC_172)\n",
    "    hat = mcc172(address)\n",
    "    \n",
    "    print(\"Found a board at address: \" + str(address))\n",
    "    \n",
    "    # Set channel specific parameters\n",
    "    ## TODO Allow for multi-chanel configuration (different sensitivities)\n",
    "    for channel in channels:\n",
    "        hat.iepe_config_write(channel, iepe_enable)\n",
    "        hat.a_in_sensitivity_write(channel, sensitivity)\n",
    "    \n",
    "    #Set clock rate\n",
    "    ## TODO This must be change to master/slave for multi-board config\n",
    "    hat.a_in_clock_config_write(SourceType.LOCAL, sample_rate)\n",
    "    \n",
    "    # Wait for clocks to sync\n",
    "    clock_sync = False\n",
    "    while clock_sync == False:\n",
    "        clock_sync = hat.a_in_clock_config_read().synchronized\n",
    "        sleep(0.01)\n",
    "        \n",
    "    ## TODO Change to requested parameters and actual parameters for all (using config_read method)\n",
    "    print(\"\"\"Recording will start with parameters\n",
    "                Channels: {0}\n",
    "                IEPE: {1}\n",
    "                Requested Scan Rate: {2} Hz\n",
    "                Actual Scan Rate: {3:.3f} Hz\n",
    "                Samples Per Channel: {4}\n",
    "                Sensitivity: {5} mV/unit\n",
    "                Option Flags: {6}\n",
    "                \"\"\".format(str(channels), str(iepe_enable), sample_rate, hat.a_in_scan_actual_rate(sample_rate), buffer_size, sensitivity, (str(options).split('.'))[1]))\n",
    "    \n",
    "    # Start scan\n",
    "    hat.a_in_scan_start(channel_mask, buffer_size, options)\n",
    "    \n",
    "    print(\"Starting scan...\")\n",
    "    \n",
    "    sleep(0.1)\n",
    "\n",
    "    return hat\n",
    "\n",
    "def continously_write_csv(hat, filename):\n",
    "    global scan\n",
    "    \n",
    "    logfile = open(filename, \"w\")\n",
    "    logfile.write(\"Value\\n\")\n",
    "    \n",
    "    while scan:\n",
    "        data = hat.a_in_scan_read(1,0).data\n",
    "        for i in range(0,len(data)):\n",
    "            logfile.write(\"{0:.6f}\\n\".format(data[i]))\n",
    "        \n",
    "        sleep(0.01)\n",
    "    print(\"Exited loop\")\n",
    "    \n",
    "    return 1\n",
    "    \n",
    "def stop_scan(hat):\n",
    "    \"\"\" Stops scan for given hat \"\"\" \n",
    "    hat.a_in_scan_stop()\n",
    "    hat.a_in_scan_cleanup()\n",
    "        \n",
    "    print(\"Scan has stopped\")\n",
    "                \n",
    "def button_update(x):\n",
    "    global scan\n",
    "    if (scan == False):\n",
    "        scan = True\n",
    "        continous_scan_start([0],False,1000,20480,300)\n",
    "    elif (scan == True):\n",
    "        scan = False\n",
    "        \n",
    "        stop_scan()\n",
    "        \n",
    "def get_hat():\n",
    "    address = select_hat_device(HatIDs.MCC_172)\n",
    "    hat = mcc172(address)\n",
    "    return hat\n",
    "\n",
    "def chanlist_to_listlist(channels, maxdevices=6, numperhat=2):\n",
    "    \"\"\"\n",
    "    This function converts a list of channels to be used (e.g. [0,1,3])\n",
    "    into a list of lists [[0,1], [1], [None], [None]]\n",
    "    \n",
    "    Args:\n",
    "        channels (list): List containing channels to use\n",
    "        maxdevices (int): Maximum number of hats on device\n",
    "        numperhat (int): Total number of channels per hat\n",
    "    Returns:\n",
    "        chans (list): List of lists describing channels in correct format\n",
    "    \"\"\"\n",
    "    chans = []\n",
    "    \n",
    "    for i in range(maxdevices):\n",
    "        chans.append([None])\n",
    "        \n",
    "    for i in channels:\n",
    "        if(i % 2 == 0):\n",
    "            chans[i//numperhat].append(0)\n",
    "            if(chans[i//numperhat].count(None) > 0):\n",
    "                chans[i//numperhat].remove(None)\n",
    "        else:\n",
    "            chans[(i-1)//numperhat].append(1)\n",
    "            if(chans[(i-1)//numperhat].count(None) > 0):\n",
    "                chans[(i-1)//numperhat].remove(None)\n",
    "\n",
    "    return chans"
   ]
  },
  {
   "cell_type": "code",
   "execution_count": 128,
   "id": "6be6a0d0-d106-49e9-887c-37749696b3c0",
   "metadata": {},
   "outputs": [
    {
     "name": "stdout",
     "output_type": "stream",
     "text": [
      "Hats:\n",
      " [HatInfo(address=0, id=325, version=2, product_name='MCC 172 IEPE HAT'), HatInfo(address=1, id=325, version=2, product_name='MCC 172 IEPE HAT')]\n",
      "Number of hats : 2\n",
      "Hats are now synced\n",
      "Hat 0\n",
      "    Channels                : [0, 1]\n",
      "    Channel mask            : 3\n",
      "    Number of channels used : 2\n",
      "    Actual sample rate      : 17066.666666666668\n",
      "    Total number of samples : 17066\n",
      "Hat 1\n",
      "    Channels                : [0, 1]\n",
      "    Channel mask            : 3\n",
      "    Number of channels used : 2\n",
      "    Actual sample rate      : 17066.666666666668\n",
      "    Total number of samples : 17066\n"
     ]
    }
   ],
   "source": [
    "MCC_data = finite_scan(verbose=True)"
   ]
  },
  {
   "cell_type": "code",
   "execution_count": 124,
   "id": "e5f79ade-a30d-4284-ba1e-22309769f838",
   "metadata": {},
   "outputs": [
    {
     "name": "stdout",
     "output_type": "stream",
     "text": [
      "added 0 to index: 0\n",
      "added 1 to index: 0\n",
      "added 0 to index: 1\n",
      "[[0, 1], [0], [None], [None]]\n"
     ]
    }
   ],
   "source": [
    "channels = [0,1,2]\n",
    "print(chanlist_to_dictlist(channels, 4, 2))"
   ]
  },
  {
   "cell_type": "code",
   "execution_count": 59,
   "id": "0aafba3c-bf45-47e0-91bc-e4fd4992517d",
   "metadata": {},
   "outputs": [
    {
     "data": {
      "text/plain": [
       "34132"
      ]
     },
     "execution_count": 59,
     "metadata": {},
     "output_type": "execute_result"
    }
   ],
   "source": [
    "len(MCC_data[1].data)"
   ]
  },
  {
   "cell_type": "code",
   "execution_count": 61,
   "id": "6c0248ca-6e28-4d5f-8f5a-fe79d2c8cdaa",
   "metadata": {},
   "outputs": [
    {
     "data": {
      "text/plain": [
       "[None,\n",
       " MCC172ScanRead(running=False, hardware_overrun=False, buffer_overrun=False, triggered=True, timeout=False, data=array([-0.11511201, -3.01035944, -0.14162001, ..., -2.84795617,\n",
       "        -0.04217028, -3.02916363])),\n",
       " None,\n",
       " None]"
      ]
     },
     "execution_count": 61,
     "metadata": {},
     "output_type": "execute_result"
    }
   ],
   "source": [
    "MCC_data"
   ]
  },
  {
   "cell_type": "code",
   "execution_count": 60,
   "id": "97531ccc-8057-42eb-854a-4d6b74e23beb",
   "metadata": {},
   "outputs": [
    {
     "ename": "AttributeError",
     "evalue": "'NoneType' object has no attribute 'data'",
     "output_type": "error",
     "traceback": [
      "\u001b[0;31m---------------------------------------------------------------------------\u001b[0m",
      "\u001b[0;31mAttributeError\u001b[0m                            Traceback (most recent call last)",
      "\u001b[0;32m/tmp/ipykernel_18342/4196696876.py\u001b[0m in \u001b[0;36m<module>\u001b[0;34m\u001b[0m\n\u001b[0;32m----> 1\u001b[0;31m \u001b[0mlen\u001b[0m\u001b[0;34m(\u001b[0m\u001b[0mMCC_data\u001b[0m\u001b[0;34m[\u001b[0m\u001b[0;36m0\u001b[0m\u001b[0;34m]\u001b[0m\u001b[0;34m.\u001b[0m\u001b[0mdata\u001b[0m\u001b[0;34m)\u001b[0m\u001b[0;34m\u001b[0m\u001b[0;34m\u001b[0m\u001b[0m\n\u001b[0m",
      "\u001b[0;31mAttributeError\u001b[0m: 'NoneType' object has no attribute 'data'"
     ]
    }
   ],
   "source": [
    "len(MCC_data[0].data)"
   ]
  },
  {
   "cell_type": "code",
   "execution_count": 8,
   "id": "ba5073c0-ac46-429a-bd72-deb583a87907",
   "metadata": {},
   "outputs": [
    {
     "data": {
      "text/plain": [
       "<HatIDs.MCC_172: 325>"
      ]
     },
     "execution_count": 8,
     "metadata": {},
     "output_type": "execute_result"
    }
   ],
   "source": [
    "HatIDs.MCC_172"
   ]
  },
  {
   "cell_type": "code",
   "execution_count": null,
   "id": "6ce747d8-ccf4-494d-bb2f-f3d5ee5ec3dc",
   "metadata": {},
   "outputs": [],
   "source": [
    "import daqhats"
   ]
  },
  {
   "cell_type": "code",
   "execution_count": null,
   "id": "b4b22392-883c-4a86-b5dc-2d5f4844c91d",
   "metadata": {},
   "outputs": [],
   "source": [
    "daqhats.daqhats"
   ]
  },
  {
   "cell_type": "code",
   "execution_count": null,
   "id": "98563767-4050-49f9-8f82-8d7d3384d5b3",
   "metadata": {},
   "outputs": [],
   "source": [
    "!sudo ls"
   ]
  },
  {
   "cell_type": "code",
   "execution_count": null,
   "id": "d85f3a64-8d88-4746-8635-c11b7702843b",
   "metadata": {},
   "outputs": [],
   "source": []
  }
 ],
 "metadata": {
  "kernelspec": {
   "display_name": "Python 3 (ipykernel)",
   "language": "python",
   "name": "python3"
  },
  "language_info": {
   "codemirror_mode": {
    "name": "ipython",
    "version": 3
   },
   "file_extension": ".py",
   "mimetype": "text/x-python",
   "name": "python",
   "nbconvert_exporter": "python",
   "pygments_lexer": "ipython3",
   "version": "3.7.3"
  }
 },
 "nbformat": 4,
 "nbformat_minor": 5
}
